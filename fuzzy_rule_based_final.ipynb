{
  "nbformat": 4,
  "nbformat_minor": 0,
  "metadata": {
    "colab": {
      "provenance": [],
      "include_colab_link": true
    },
    "kernelspec": {
      "name": "python3",
      "display_name": "Python 3"
    },
    "language_info": {
      "name": "python"
    }
  },
  "cells": [
    {
      "cell_type": "markdown",
      "metadata": {
        "id": "view-in-github",
        "colab_type": "text"
      },
      "source": [
        "<a href=\"https://colab.research.google.com/github/ashbinbijoy/FUZZY/blob/main/fuzzy_rule_based_final.ipynb\" target=\"_parent\"><img src=\"https://colab.research.google.com/assets/colab-badge.svg\" alt=\"Open In Colab\"/></a>"
      ]
    },
    {
      "cell_type": "code",
      "execution_count": null,
      "metadata": {
        "colab": {
          "base_uri": "https://localhost:8080/"
        },
        "id": "frZUGdu6uhyY",
        "outputId": "e05c47fe-77da-44af-bea4-9decac742828"
      },
      "outputs": [
        {
          "output_type": "stream",
          "name": "stdout",
          "text": [
            "Fuzzy Rule-Based Network Performance Metrics:\n",
            "Train Accuracy: 0.21\n",
            "Test Accuracy: 0.20\n",
            "Overall Accuracy: 0.20\n",
            "Precision: 0.49\n",
            "Recall: 0.20\n",
            "F1-Score: 0.11\n"
          ]
        }
      ],
      "source": [
        "import numpy as np\n",
        "import skfuzzy as fuzz\n",
        "from skfuzzy import control as ctrl\n",
        "from sklearn.preprocessing import LabelEncoder, StandardScaler\n",
        "from sklearn.metrics import precision_score, recall_score, f1_score, accuracy_score\n",
        "\n",
        "# Load data\n",
        "X_train = np.loadtxt('/content/driver_activity_train.csv', delimiter=',', skiprows=1, usecols=range(10))\n",
        "y_train = np.loadtxt('/content/driver_activity_train.csv', delimiter=',', skiprows=1, usecols=10, dtype=str)\n",
        "X_test = np.loadtxt('/content/driver_activity_test.csv', delimiter=',', skiprows=1, usecols=range(10))\n",
        "y_test = np.loadtxt('/content/driver_activity_test.csv', delimiter=',', skiprows=1, usecols=10, dtype=str)\n",
        "\n",
        "# Encode labels\n",
        "encoder = LabelEncoder()\n",
        "y_train_encoded = encoder.fit_transform(y_train)\n",
        "y_test_encoded = encoder.transform(y_test)\n",
        "\n",
        "# Standardize data\n",
        "scaler = StandardScaler()\n",
        "X_train_scaled = scaler.fit_transform(X_train)\n",
        "X_test_scaled = scaler.transform(X_test)\n",
        "\n",
        "# Define fuzzy variables\n",
        "activity = ctrl.Antecedent(np.arange(0, 11, 1), 'activity')\n",
        "alertness = ctrl.Consequent(np.arange(0, 11, 1), 'alertness')\n",
        "\n",
        "# Define membership functions\n",
        "activity.automf(3)\n",
        "alertness.automf(3)\n",
        "\n",
        "# Define fuzzy rules\n",
        "rule1 = ctrl.Rule(activity['poor'], alertness['poor'])\n",
        "rule2 = ctrl.Rule(activity['average'], alertness['average'])\n",
        "rule3 = ctrl.Rule(activity['good'], alertness['good'])\n",
        "\n",
        "# Create control system\n",
        "alertness_ctrl = ctrl.ControlSystem([rule1, rule2, rule3])\n",
        "alertness_sim = ctrl.ControlSystemSimulation(alertness_ctrl)\n",
        "\n",
        "# Perform predictions\n",
        "y_train_pred = []\n",
        "y_test_pred = []\n",
        "\n",
        "for i in range(len(X_train_scaled)):\n",
        "    alertness_sim.input['activity'] = np.mean(X_train_scaled[i]) * 10\n",
        "    alertness_sim.compute()\n",
        "    y_train_pred.append(int(alertness_sim.output['alertness'] // 4))\n",
        "\n",
        "for i in range(len(X_test_scaled)):\n",
        "    alertness_sim.input['activity'] = np.mean(X_test_scaled[i]) * 10\n",
        "    alertness_sim.compute()\n",
        "    y_test_pred.append(int(alertness_sim.output['alertness'] // 4))\n",
        "\n",
        "# Compute Metrics\n",
        "train_accuracy = accuracy_score(y_train_encoded, y_train_pred)\n",
        "test_accuracy = accuracy_score(y_test_encoded, y_test_pred)\n",
        "overall_accuracy = accuracy_score(y_test_encoded, y_test_pred)\n",
        "precision = precision_score(y_test_encoded, y_test_pred, average='weighted', zero_division=1)\n",
        "recall = recall_score(y_test_encoded, y_test_pred, average='weighted', zero_division=1)\n",
        "f1 = f1_score(y_test_encoded, y_test_pred, average='weighted', zero_division=1)\n",
        "\n",
        "# Print Performance Metrics\n",
        "print(\"Fuzzy Rule-Based Network Performance Metrics:\")\n",
        "print(f\"Train Accuracy: {train_accuracy:.2f}\")\n",
        "print(f\"Test Accuracy: {test_accuracy:.2f}\")\n",
        "print(f\"Overall Accuracy: {overall_accuracy:.2f}\")\n",
        "print(f\"Precision: {precision:.2f}\")\n",
        "print(f\"Recall: {recall:.2f}\")\n",
        "print(f\"F1-Score: {f1:.2f}\")"
      ]
    },
    {
      "cell_type": "code",
      "source": [
        "!pip install scikit-fuzzy"
      ],
      "metadata": {
        "colab": {
          "base_uri": "https://localhost:8080/"
        },
        "id": "SBbV0MWcrZdV",
        "outputId": "b9ad6ef3-df44-45da-e27a-3174b0fca5e8"
      },
      "execution_count": null,
      "outputs": [
        {
          "output_type": "stream",
          "name": "stdout",
          "text": [
            "Collecting scikit-fuzzy\n",
            "  Downloading scikit_fuzzy-0.5.0-py2.py3-none-any.whl.metadata (2.6 kB)\n",
            "Downloading scikit_fuzzy-0.5.0-py2.py3-none-any.whl (920 kB)\n",
            "\u001b[?25l   \u001b[90m━━━━━━━━━━━━━━━━━━━━━━━━━━━━━━━━━━━━━━━━\u001b[0m \u001b[32m0.0/920.8 kB\u001b[0m \u001b[31m?\u001b[0m eta \u001b[36m-:--:--\u001b[0m\r\u001b[2K   \u001b[91m━━━━━━━━━━━━\u001b[0m\u001b[90m╺\u001b[0m\u001b[90m━━━━━━━━━━━━━━━━━━━━━━━━━━━\u001b[0m \u001b[32m276.5/920.8 kB\u001b[0m \u001b[31m8.4 MB/s\u001b[0m eta \u001b[36m0:00:01\u001b[0m\r\u001b[2K   \u001b[90m━━━━━━━━━━━━━━━━━━━━━━━━━━━━━━━━━━━━━━━━\u001b[0m \u001b[32m920.8/920.8 kB\u001b[0m \u001b[31m13.9 MB/s\u001b[0m eta \u001b[36m0:00:00\u001b[0m\n",
            "\u001b[?25hInstalling collected packages: scikit-fuzzy\n",
            "Successfully installed scikit-fuzzy-0.5.0\n"
          ]
        }
      ]
    }
  ]
}